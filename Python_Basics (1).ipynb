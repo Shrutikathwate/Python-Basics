{
  "nbformat": 4,
  "nbformat_minor": 0,
  "metadata": {
    "colab": {
      "provenance": []
    },
    "kernelspec": {
      "name": "python3",
      "display_name": "Python 3"
    },
    "language_info": {
      "name": "python"
    }
  },
  "cells": [
    {
      "cell_type": "markdown",
      "source": [
        "#Python Basics\n"
      ],
      "metadata": {
        "id": "_hruVO8-6l4q"
      }
    },
    {
      "cell_type": "markdown",
      "source": [
        "1. What is Python, and why is it popular?\n",
        "   - Python is an high level interpreted pogramming language that focuses on simplicity and flexibility of the code.\n",
        "   - Python is popular, because It is a simple and easy to understand, It is versatile (that is we can use it in web development, data science, AI/ML and more) language, It have very large community and libraries, Python is an case sensitive(there is a different meaning of capital and small alphabets in python) language and Also we can perform it on any platform (windows,linux,Mac,etc.)\n",
        "2. What is an interpreter in Python?\n",
        "   - Interpreter is a program that execute python code line by line and translate it to machine level language\n",
        "3. What are pre-defined keywords in Python?\n",
        "   - Pre-define keywords are reserved words having specific meaning in python which are assign for a specific task or activity.\n",
        "   - Examples:print, return, break, continue, add,substract,\n",
        "4. Can keywords be used as variable names?\n",
        "   -  No, it can not be use as a variable names as it is asign for only specific task itself even it can't use as functions and data types.\n",
        "5. What is mutability in Python?\n",
        "   - Mutability is a feature in python which tells whether object's elements or values can be changed after it is created.\n",
        "   - It is defined in two ways:  1) Mutable object (object's values can be changed after its created), 2) Immutable object (object's values can not be changed after its created)\n",
        "6. Why are lists mutable, but tuples are immutable?\n",
        "   - lists and tuples both are the type of arrays. In which lists are dynamic arrays which allows modifications while tuples are stored as a fixed size objects so they are immutable.\n",
        "7. What is the difference between “==” and “is” operators in Python?\n",
        "   - \"==\" is an comparison operator - \"is\" is an identity operator.\n",
        "   - \"==\" operator compares two values - \"is\" operator identifies values.\n",
        "   - \"==\" operator tells us that two values are equal or not - \"is\" operator tells us that operands are identical or not.\n",
        "   - It gives \"True\" if the two values are equal otherwise it gives false - It gives \"True\" if the given value is identical otherwise it gives false.\n",
        "8. What are logical operators in Python?\n",
        "   - Opertaors which are used to modify boolean values and expresions are known as logical operators.\n",
        "   - Logical operators : 1)AND Operator- returns True if both conditions are true otherwise returns false, 2)OR Operator- returns False if both conditions are false otherwise returns true, 3)NOT Operator- returns opposite boolean value.\n",
        "9. What is type casting in Python?\n",
        "   - Type casting is a process of converting one data type to another data type for performing tasks.\n",
        "10. What is the difference between implicit and explicit type casting?\n",
        "    - Implicit Type Casting atomatically change the data type when needed while executing code - Explicit Type Casting use built-in functions to convert values to execute code.\n",
        "    - Implicit Type Casting is python controlled - Explicit Type Casting is programmer controlled.\n",
        "11. What is the purpose of conditional statements in Python?\n",
        "    - Purpose is to let a program make dicisions and execute different blocks whether the condition is true or false.\n",
        "12. How does the elif statement work?\n",
        "    - Python checks the if statement first.\n",
        "    - if it is true then skip the elif/else part of the code.\n",
        "    - if it is false then python checks the first elif statement.\n",
        "    - if an elif is true then its block runs and remaining conditions are ignored.\n",
        "    - if it is false then else block runs.\n",
        "13. What is the difference between for and while loops?\n",
        "    - For loop is used when we know exact number of literations -  While loop is used when we dont know the number literations.\n",
        "    - It literates sequentially - It literates until condition won't be false.\n",
        "14. Describe a scenario where a while loop is more suitable than a for loop?\n",
        "    - Senario - Taking user input until they type \"exit\".\n",
        "    - This loops runs until a specific condition(i.e user_input != \"exit\") become false. A For loop did not fit for this condition because we dont have fixed number of iterations."
      ],
      "metadata": {
        "id": "TrZXvCOa7TKA"
      }
    },
    {
      "cell_type": "code",
      "execution_count": null,
      "metadata": {
        "colab": {
          "base_uri": "https://localhost:8080/"
        },
        "id": "eXpKM-E63l2Z",
        "outputId": "d3f465d4-2fa7-4ebb-eab4-4fdc3f7a0b62"
      },
      "outputs": [
        {
          "output_type": "stream",
          "name": "stdout",
          "text": [
            "Hello, World!\n"
          ]
        }
      ],
      "source": [
        "# Q1: Write a Python program to print \"Hello, World!\"\n",
        "print(\"Hello, World!\")"
      ]
    },
    {
      "cell_type": "code",
      "source": [
        "# Q2: Write a Python program that displays your name and age.\n",
        "name = \"Shruti\"\n",
        "age = 20\n",
        "print(\"Name is\", name)\n",
        "print(\"Age is\", age)"
      ],
      "metadata": {
        "colab": {
          "base_uri": "https://localhost:8080/"
        },
        "id": "crvP_4Psunop",
        "outputId": "ee0d71e7-01f8-431e-b7ef-9c5d484c85e9"
      },
      "execution_count": null,
      "outputs": [
        {
          "output_type": "stream",
          "name": "stdout",
          "text": [
            "Name is Shruti\n",
            "Age is 20\n"
          ]
        }
      ]
    },
    {
      "cell_type": "code",
      "source": [
        "# Q3: Write code to print all the pre-defined keywords in Python using the keyword library.\n",
        "import keyword\n",
        "\n",
        "keywords = keyword.kwlist\n",
        "\n",
        "print(\"Python Keywords:\")\n",
        "for kw in keywords:\n",
        "    print(kw)"
      ],
      "metadata": {
        "colab": {
          "base_uri": "https://localhost:8080/"
        },
        "id": "rGeUIYgXunZN",
        "outputId": "5544fb2d-8a68-4de2-e4b7-c4786683e6c7"
      },
      "execution_count": null,
      "outputs": [
        {
          "output_type": "stream",
          "name": "stdout",
          "text": [
            "Python Keywords:\n",
            "False\n",
            "None\n",
            "True\n",
            "and\n",
            "as\n",
            "assert\n",
            "async\n",
            "await\n",
            "break\n",
            "class\n",
            "continue\n",
            "def\n",
            "del\n",
            "elif\n",
            "else\n",
            "except\n",
            "finally\n",
            "for\n",
            "from\n",
            "global\n",
            "if\n",
            "import\n",
            "in\n",
            "is\n",
            "lambda\n",
            "nonlocal\n",
            "not\n",
            "or\n",
            "pass\n",
            "raise\n",
            "return\n",
            "try\n",
            "while\n",
            "with\n",
            "yield\n"
          ]
        }
      ]
    },
    {
      "cell_type": "code",
      "source": [
        "# Q4: Write a program that checks if a given word is a Python keyword.\n",
        "import keyword\n",
        "\n",
        "word = \"while\"\n",
        "if keyword.iskeyword(word):\n",
        "    print(word, \"is a keyword\")\n",
        "else:\n",
        "    print(word, \"is not a keyword\")"
      ],
      "metadata": {
        "colab": {
          "base_uri": "https://localhost:8080/"
        },
        "id": "MAiDIT2YxBtn",
        "outputId": "3131f8c5-c8f1-4ede-cdcf-d95a8001f920"
      },
      "execution_count": null,
      "outputs": [
        {
          "output_type": "stream",
          "name": "stdout",
          "text": [
            "while is a keyword\n"
          ]
        }
      ]
    },
    {
      "cell_type": "code",
      "source": [
        "# Q5: Create a list and tuple in Python, and demonstrate how attempting to change an element works differently for each.\n",
        "list = [1, 2, 3, 4, 5, 6]\n",
        "list[2] = 20\n",
        "print(list)\n",
        "# attempting to change an element in tuple is not valid it will throw an error\n",
        "# tuple = (1, 2, 3, 4, 5, 6)\n",
        "# tuple[2] = 20\n",
        "# print(tuple)"
      ],
      "metadata": {
        "colab": {
          "base_uri": "https://localhost:8080/"
        },
        "id": "injfZUzZxCbt",
        "outputId": "e17fc9da-8d5c-4e21-8d5f-b900a6a2de82"
      },
      "execution_count": null,
      "outputs": [
        {
          "output_type": "stream",
          "name": "stdout",
          "text": [
            "[1, 2, 20, 4, 5, 6]\n"
          ]
        }
      ]
    },
    {
      "cell_type": "code",
      "source": [
        "# Q6: Write a function to demonstrate the behavior of mutable and immutable arguments.\n",
        "\n",
        "def demonstrate_mutability(mutable_list, immutable_int):\n",
        "  print(\"Inside function (before modification):\")\n",
        "  print(\"Mutable list:\", mutable_list)\n",
        "  print(\"Immutable integer:\", immutable_int)\n",
        "\n",
        "\n",
        "  mutable_list.append(4)\n",
        "\n",
        "  immutable_int = immutable_int + 1\n",
        "\n",
        "  print(\"\\nInside function (after modification):\")\n",
        "  print(\"Mutable list:\", mutable_list)\n",
        "  print(\"Immutable integer:\", immutable_int)\n",
        "\n",
        "my_list = [1, 2, 3]\n",
        "my_integer = 10\n",
        "\n",
        "print(\"Outside function (before calling):\")\n",
        "print(\"Mutable list:\", my_list)\n",
        "print(\"Immutable integer:\", my_integer)\n",
        "\n",
        "demonstrate_mutability(my_list, my_integer)\n",
        "\n",
        "print(\"\\nOutside function (after calling):\")\n",
        "print(\"Mutable list:\", my_list) # The list is modified\n",
        "print(\"Immutable integer:\", my_integer) # The integer remains unchanged"
      ],
      "metadata": {
        "colab": {
          "base_uri": "https://localhost:8080/"
        },
        "id": "MQf-376e1QEH",
        "outputId": "ac092d25-5cf4-4128-9650-77a4f2ffeee3"
      },
      "execution_count": null,
      "outputs": [
        {
          "output_type": "stream",
          "name": "stdout",
          "text": [
            "Outside function (before calling):\n",
            "Mutable list: [1, 2, 3]\n",
            "Immutable integer: 10\n",
            "Inside function (before modification):\n",
            "Mutable list: [1, 2, 3]\n",
            "Immutable integer: 10\n",
            "\n",
            "Inside function (after modification):\n",
            "Mutable list: [1, 2, 3, 4]\n",
            "Immutable integer: 11\n",
            "\n",
            "Outside function (after calling):\n",
            "Mutable list: [1, 2, 3, 4]\n",
            "Immutable integer: 10\n"
          ]
        }
      ]
    },
    {
      "cell_type": "code",
      "source": [
        "# Q7: Write a program that performs basic arithmetic operations on two user-input numbers.\n",
        "\n",
        "try:\n",
        "    num1 = float(input(\"Enter the first number: \"))\n",
        "    num2 = float(input(\"Enter the second number: \"))\n",
        "\n",
        "    print(f\"{num1} + {num2} = {num1 + num2}\")\n",
        "    print(f\"{num1} - {num2} = {num1 - num2}\")\n",
        "    print(f\"{num1} * {num2} = {num1 * num2}\")\n",
        "\n",
        "    if num2 != 0:\n",
        "        print(f\"{num1} / {num2} = {num1 / num2}\")\n",
        "    else:\n",
        "        print(\"Cannot divide by zero!\")\n",
        "\n",
        "except ValueError:\n",
        "    print(\"Invalid input. Please enter numbers only.\")"
      ],
      "metadata": {
        "colab": {
          "base_uri": "https://localhost:8080/"
        },
        "id": "ummdFnjv1QQG",
        "outputId": "11111221-1545-417e-ff79-a548d3eac7b4"
      },
      "execution_count": null,
      "outputs": [
        {
          "output_type": "stream",
          "name": "stdout",
          "text": [
            "Enter the first number: 15\n",
            "Enter the second number: 20\n",
            "15.0 + 20.0 = 35.0\n",
            "15.0 - 20.0 = -5.0\n",
            "15.0 * 20.0 = 300.0\n",
            "15.0 / 20.0 = 0.75\n"
          ]
        }
      ]
    },
    {
      "cell_type": "code",
      "source": [
        "# Q8: Write a program to demonstrate the use of logical operators.\n",
        "\n",
        "x = True\n",
        "y = False\n",
        "\n",
        "print(f\"x is {x}\")\n",
        "print(f\"y is {y}\")\n",
        "\n",
        "print(\"\\nLogical AND:\")\n",
        "print(f\"x and y is {x and y}\")\n",
        "print(\"\\nLogical OR:\")\n",
        "print(f\"x or y is {x or y}\")\n",
        "print(\"\\nLogical NOT:\")\n",
        "print(f\"not x is {not x}\")"
      ],
      "metadata": {
        "colab": {
          "base_uri": "https://localhost:8080/"
        },
        "id": "tMbqkl8J1QT0",
        "outputId": "3029d3f4-c693-4ddb-ac42-559bc43bb549"
      },
      "execution_count": null,
      "outputs": [
        {
          "output_type": "stream",
          "name": "stdout",
          "text": [
            "x is True\n",
            "y is False\n",
            "\n",
            "Logical AND:\n",
            "x and y is False\n",
            "\n",
            "Logical OR:\n",
            "x or y is True\n",
            "\n",
            "Logical NOT:\n",
            "not x is False\n"
          ]
        }
      ]
    },
    {
      "cell_type": "code",
      "source": [
        "# Q9: Write a Python program to convert user input from string to integer, float, and boolean types.\n",
        "\n",
        "user_input_string = input(\"Enter a value: \")\n",
        "\n",
        "try:\n",
        "    int_value = int(user_input_string)\n",
        "    print(f\"Converted to integer: {int_value}\")\n",
        "except ValueError:\n",
        "    print(f\"Cannot convert '{user_input_string}' to integer.\")\n",
        "\n",
        "try:\n",
        "    float_value = float(user_input_string)\n",
        "    print(f\"Converted to float: {float_value}\")\n",
        "except ValueError:\n",
        "    print(f\"Cannot convert '{user_input_string}' to float.\")\n",
        "\n",
        "bool_value = user_input_string.lower() == 'true'\n",
        "print(f\"Converted to boolean (based on 'True'/'False'): {bool_value}\")"
      ],
      "metadata": {
        "colab": {
          "base_uri": "https://localhost:8080/"
        },
        "id": "Fhb1qysB1QXY",
        "outputId": "45afa7bb-0726-4240-98c4-d84841192041"
      },
      "execution_count": null,
      "outputs": [
        {
          "output_type": "stream",
          "name": "stdout",
          "text": [
            "Enter a value: 100\n",
            "Converted to integer: 100\n",
            "Converted to float: 100.0\n",
            "Converted to boolean (based on 'True'/'False'): False\n"
          ]
        }
      ]
    },
    {
      "cell_type": "code",
      "source": [
        "# Q10: Write code to demonstrate type casting with list elements.\n",
        "\n",
        "my_list = [\"1\", 2, \"3.5\", True]\n",
        "print(\"Original list:\", my_list)\n",
        "\n",
        "try:\n",
        "    my_list[0] = int(my_list[0])\n",
        "    print(\"After converting first element to integer:\", my_list)\n",
        "except ValueError:\n",
        "    print(f\"Could not convert '{my_list[0]}' to integer.\")\n",
        "\n",
        "# Convert integer 2 to float\n",
        "my_list[1] = float(my_list[1])\n",
        "print(\"After converting second element to float:\", my_list)\n",
        "\n",
        "# Convert string \"3.5\" to float\n",
        "try:\n",
        "    my_list[2] = float(my_list[2])\n",
        "    print(\"After converting third element to float:\", my_list)\n",
        "except ValueError:\n",
        "     print(f\"Could not convert '{my_list[2]}' to float.\")\n",
        "\n",
        "# Convert boolean True to integer\n",
        "my_list[3] = int(my_list[3])\n",
        "print(\"After converting fourth element to integer:\", my_list)"
      ],
      "metadata": {
        "colab": {
          "base_uri": "https://localhost:8080/"
        },
        "id": "_mItK-Uy1Qg2",
        "outputId": "fefedf73-b6cb-40e6-ad2a-018109d6e101"
      },
      "execution_count": null,
      "outputs": [
        {
          "output_type": "stream",
          "name": "stdout",
          "text": [
            "Original list: ['1', 2, '3.5', True]\n",
            "After converting first element to integer: [1, 2, '3.5', True]\n",
            "After converting second element to float: [1, 2.0, '3.5', True]\n",
            "After converting third element to float: [1, 2.0, 3.5, True]\n",
            "After converting fourth element to integer: [1, 2.0, 3.5, 1]\n"
          ]
        }
      ]
    },
    {
      "cell_type": "code",
      "source": [
        "# Q11: Write a program that checks if a number is positive, negative, or zero.\n",
        "\n",
        "try:\n",
        "    number = float(input(\"Enter a number: \"))\n",
        "\n",
        "    if number > 0:\n",
        "        print(f\"{number} is positive.\")\n",
        "    elif number < 0:\n",
        "        print(f\"{number} is negative.\")\n",
        "    else:\n",
        "        print(f\"{number} is zero.\")\n",
        "\n",
        "except ValueError:\n",
        "    print(\"Invalid input. Please enter a number.\")"
      ],
      "metadata": {
        "colab": {
          "base_uri": "https://localhost:8080/"
        },
        "id": "uMw8JfWZ2h0t",
        "outputId": "df400703-c408-4e4b-9136-07e70ec8f2eb"
      },
      "execution_count": null,
      "outputs": [
        {
          "output_type": "stream",
          "name": "stdout",
          "text": [
            "Enter a number: 50\n",
            "50.0 is positive.\n"
          ]
        }
      ]
    },
    {
      "cell_type": "code",
      "source": [
        "# Q12: Write a for loop to print numbers from 1 to 10\n",
        "for i in range(1, 11):\n",
        "  print(i)"
      ],
      "metadata": {
        "colab": {
          "base_uri": "https://localhost:8080/"
        },
        "id": "vcbwFvYA2huo",
        "outputId": "2604572b-ada2-4929-f9b2-467af02cc53c"
      },
      "execution_count": null,
      "outputs": [
        {
          "output_type": "stream",
          "name": "stdout",
          "text": [
            "1\n",
            "2\n",
            "3\n",
            "4\n",
            "5\n",
            "6\n",
            "7\n",
            "8\n",
            "9\n",
            "10\n"
          ]
        }
      ]
    },
    {
      "cell_type": "code",
      "source": [
        "# Q13: Write a Python program to find the sum of all even numbers between 1 and 50.\n",
        "even_sum = 0\n",
        "\n",
        "for number in range(1, 51):\n",
        "    if number % 2 == 0:\n",
        "        even_sum += number\n",
        "\n",
        "print(\"The sum of all even numbers between 1 and 50 is:\", even_sum)"
      ],
      "metadata": {
        "id": "lESxYVpt8xrr"
      },
      "execution_count": null,
      "outputs": []
    },
    {
      "cell_type": "code",
      "source": [
        "# Q14: Write a program to reverse a string using a while loop.\n",
        "\n",
        "input_string = \"Hello\"\n",
        "reversed_string = \"\"\n",
        "index = len(input_string) - 1\n",
        "\n",
        "while index >= 0:\n",
        "  reversed_string += input_string[index]\n",
        "  index -= 1\n",
        "\n",
        "print(f\"Original string: {input_string}\")\n",
        "print(f\"Reversed string: {reversed_string}\")"
      ],
      "metadata": {
        "colab": {
          "base_uri": "https://localhost:8080/"
        },
        "id": "m9w7z03S2gw3",
        "outputId": "cda1e45b-232b-4f45-ca42-6d20a940bb84"
      },
      "execution_count": null,
      "outputs": [
        {
          "output_type": "stream",
          "name": "stdout",
          "text": [
            "Original string: Hello\n",
            "Reversed string: olleH\n"
          ]
        }
      ]
    },
    {
      "cell_type": "code",
      "source": [
        "# Q15: Write a Python program to calculate the factorial of a number provided by the user using a while loop.\n",
        "\n",
        "try:\n",
        "    num = int(input(\"Enter a non-negative integer to calculate its factorial: \"))\n",
        "\n",
        "    if num < 0:\n",
        "        print(\"Factorial is not defined for negative numbers.\")\n",
        "    elif num == 0:\n",
        "        print(\"The factorial of 0 is 1.\")\n",
        "    else:\n",
        "        factorial = 1\n",
        "        count = num\n",
        "        while count > 0:\n",
        "            factorial *= count\n",
        "            count -= 1\n",
        "        print(f\"The factorial of {num} is {factorial}.\")\n",
        "\n",
        "except ValueError:\n",
        "    print(\"Invalid input. Please enter an integer.\")"
      ],
      "metadata": {
        "colab": {
          "base_uri": "https://localhost:8080/"
        },
        "id": "FfbgJMAJ2gkd",
        "outputId": "1333ca35-a35f-4f5e-c0f7-6525472627d9"
      },
      "execution_count": null,
      "outputs": [
        {
          "output_type": "stream",
          "name": "stdout",
          "text": [
            "Enter a non-negative integer to calculate its factorial: 38\n",
            "The factorial of 38 is 523022617466601111760007224100074291200000000.\n"
          ]
        }
      ]
    }
  ]
}